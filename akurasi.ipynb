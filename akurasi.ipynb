{
 "cells": [
  {
   "cell_type": "code",
   "execution_count": null,
   "id": "3c5f3eac",
   "metadata": {},
   "outputs": [],
   "source": [
    "import os\n",
    "import csv\n",
    "import numpy as np\n",
    "import pandas as pd\n",
    "\n",
    "from sklearn.model_selection import train_test_split\n",
    "from sklearn.preprocessing import StandardScaler, OneHotEncoder\n",
    "from sklearn.compose import ColumnTransformer\n",
    "from sklearn.pipeline import Pipeline\n",
    "from sklearn.ensemble import RandomForestRegressor\n",
    "from sklearn.neighbors import KNeighborsRegressor\n",
    "from sklearn.metrics import r2_score, mean_squared_error, mean_absolute_error,  accuracy_score"
   ]
  },
  {
   "cell_type": "code",
   "execution_count": 7,
   "id": "2c5bbd4a",
   "metadata": {},
   "outputs": [],
   "source": [
    "# 1. Baca data\n",
    "DATA_PATH = 'data/yield_df.csv'\n",
    "df = pd.read_csv(DATA_PATH).drop(columns=['Unnamed: 0'])"
   ]
  },
  {
   "cell_type": "code",
   "execution_count": 8,
   "id": "d7aa9e48",
   "metadata": {},
   "outputs": [],
   "source": [
    "numerical_cols   = ['Year', 'average_rain_fall_mm_per_year', 'pesticides_tonnes', 'avg_temp']\n",
    "categorical_cols = ['Area']"
   ]
  },
  {
   "cell_type": "code",
   "execution_count": 9,
   "id": "37be9b92",
   "metadata": {},
   "outputs": [],
   "source": [
    "thresholds = {}\n",
    "for item in df['Item'].unique():\n",
    "    df_item = df[df['Item'] == item]\n",
    "    if len(df_item) < 100:\n",
    "        continue\n",
    "    q1 = df_item['hg/ha_yield'].quantile(0.33)\n",
    "    q2 = df_item['hg/ha_yield'].quantile(0.66)\n",
    "    thresholds[item] = (q1, q2)\n"
   ]
  },
  {
   "cell_type": "code",
   "execution_count": 10,
   "id": "8a9908a9",
   "metadata": {},
   "outputs": [],
   "source": [
    "def categorize(item, value):\n",
    "    low, high = thresholds[item]\n",
    "    if value <= low:\n",
    "        return 'rendah'\n",
    "    elif value <= high:\n",
    "        return 'sedang'\n",
    "    else:\n",
    "        return 'tinggi'"
   ]
  },
  {
   "cell_type": "code",
   "execution_count": 11,
   "id": "9e845363",
   "metadata": {},
   "outputs": [
    {
     "name": "stdout",
     "output_type": "stream",
     "text": [
      "\n",
      "=== Evaluasi untuk Item: Maize ===\n"
     ]
    },
    {
     "ename": "NameError",
     "evalue": "name 'accuracy_score' is not defined",
     "output_type": "error",
     "traceback": [
      "\u001b[1;31m---------------------------------------------------------------------------\u001b[0m",
      "\u001b[1;31mNameError\u001b[0m                                 Traceback (most recent call last)",
      "Cell \u001b[1;32mIn[11], line 53\u001b[0m\n\u001b[0;32m     51\u001b[0m rmse \u001b[38;5;241m=\u001b[39m np\u001b[38;5;241m.\u001b[39msqrt(mse)\n\u001b[0;32m     52\u001b[0m mae  \u001b[38;5;241m=\u001b[39m mean_absolute_error(y_test, y_pred)\n\u001b[1;32m---> 53\u001b[0m acc  \u001b[38;5;241m=\u001b[39m accuracy_score(y_test_cls, y_pred_cls)\n\u001b[0;32m     55\u001b[0m \u001b[38;5;28mprint\u001b[39m(\u001b[38;5;124mf\u001b[39m\u001b[38;5;124m\"\u001b[39m\u001b[38;5;130;01m\\n\u001b[39;00m\u001b[38;5;124mModel: \u001b[39m\u001b[38;5;132;01m{\u001b[39;00mmodel_name\u001b[38;5;132;01m}\u001b[39;00m\u001b[38;5;124m\"\u001b[39m)\n\u001b[0;32m     56\u001b[0m \u001b[38;5;28mprint\u001b[39m(\u001b[38;5;124mf\u001b[39m\u001b[38;5;124m\"\u001b[39m\u001b[38;5;124m - R²       : \u001b[39m\u001b[38;5;132;01m{\u001b[39;00mr2\u001b[38;5;132;01m:\u001b[39;00m\u001b[38;5;124m.3f\u001b[39m\u001b[38;5;132;01m}\u001b[39;00m\u001b[38;5;124m\"\u001b[39m)\n",
      "\u001b[1;31mNameError\u001b[0m: name 'accuracy_score' is not defined"
     ]
    }
   ],
   "source": [
    "for item in df['Item'].unique():\n",
    "    if item not in thresholds:\n",
    "        continue  # skip item tanpa threshold (data < 100)\n",
    "\n",
    "    df_item = df[df['Item'] == item]\n",
    "    X = df_item.drop(columns=['hg/ha_yield', 'Item'])\n",
    "    y = df_item['hg/ha_yield']\n",
    "\n",
    "    # 5a. Preprocessor\n",
    "    preprocessor = ColumnTransformer([\n",
    "        ('num', StandardScaler(), numerical_cols),\n",
    "        ('cat', OneHotEncoder(handle_unknown='ignore'), categorical_cols)\n",
    "    ])\n",
    "\n",
    "    # 5b. Pipeline regresi\n",
    "    rf_pipeline = Pipeline([\n",
    "        ('pre', preprocessor),\n",
    "        ('reg', RandomForestRegressor(n_estimators=100, random_state=42))\n",
    "    ])\n",
    "    knn_pipeline = Pipeline([\n",
    "        ('pre', preprocessor),\n",
    "        ('reg', KNeighborsRegressor(n_neighbors=5))\n",
    "    ])\n",
    "\n",
    "    # 5c. Split data\n",
    "    X_train, X_test, y_train, y_test = train_test_split(\n",
    "        X, y, test_size=0.2, random_state=42\n",
    "    )\n",
    "\n",
    "    # 5d. Train\n",
    "    rf_pipeline.fit(X_train, y_train)\n",
    "    knn_pipeline.fit(X_train, y_train)\n",
    "\n",
    "    # 5e. Predict\n",
    "    y_pred_rf  = rf_pipeline.predict(X_test)\n",
    "    y_pred_knn = knn_pipeline.predict(X_test)\n",
    "\n",
    "    # 5f. Buat kelas untuk evaluasi akurasi\n",
    "    y_test_cls     = [categorize(item, val) for val in y_test]\n",
    "    y_pred_rf_cls  = [categorize(item, val) for val in y_pred_rf]\n",
    "    y_pred_knn_cls = [categorize(item, val) for val in y_pred_knn]\n",
    "\n",
    "    # 5g. Print hasil\n",
    "    print(f\"\\n=== Evaluasi untuk Item: {item} ===\")\n",
    "    for model_name, y_pred, y_pred_cls in [\n",
    "        ('Random Forest', y_pred_rf,  y_pred_rf_cls),\n",
    "        ('KNN Regressor',  y_pred_knn, y_pred_knn_cls)\n",
    "    ]:\n",
    "        r2   = r2_score(y_test, y_pred)\n",
    "        mse  = mean_squared_error(y_test, y_pred)\n",
    "        rmse = np.sqrt(mse)\n",
    "        mae  = mean_absolute_error(y_test, y_pred)\n",
    "        acc  = accuracy_score(y_test_cls, y_pred_cls)\n",
    "\n",
    "        print(f\"\\nModel: {model_name}\")\n",
    "        print(f\" - R²       : {r2:.3f}\")\n",
    "        print(f\" - MSE      : {mse:.3f}\")\n",
    "        print(f\" - RMSE     : {rmse:.3f}\")\n",
    "        print(f\" - MAE      : {mae:.3f}\")\n",
    "        print(f\" - Accuracy : {acc:.3f} (kelas rendah/sedang/tinggi)\")\n",
    "\n",
    "print(\"\\nSelesai menghitung metrik untuk semua item.\")"
   ]
  }
 ],
 "metadata": {
  "kernelspec": {
   "display_name": "base",
   "language": "python",
   "name": "python3"
  },
  "language_info": {
   "codemirror_mode": {
    "name": "ipython",
    "version": 3
   },
   "file_extension": ".py",
   "mimetype": "text/x-python",
   "name": "python",
   "nbconvert_exporter": "python",
   "pygments_lexer": "ipython3",
   "version": "3.11.4"
  }
 },
 "nbformat": 4,
 "nbformat_minor": 5
}
